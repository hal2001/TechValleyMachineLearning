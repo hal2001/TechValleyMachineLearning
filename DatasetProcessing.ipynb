{
 "cells": [
  {
   "cell_type": "code",
   "execution_count": 21,
   "metadata": {
    "collapsed": true
   },
   "outputs": [],
   "source": [
    "# Going to work off of the Keras API to create our own datasets. Kinda. \n",
    "from six.moves import cPickle\n",
    "import numpy as np, pandas as pd\n",
    "import glob\n",
    "import os"
   ]
  },
  {
   "cell_type": "code",
   "execution_count": 3,
   "metadata": {
    "collapsed": true
   },
   "outputs": [],
   "source": [
    "# datapath = '/media/mike/tera/data/nlp/kaggle_imdb/'\n",
    "path = '/home/mike/.keras/datasets/imdb_full.pkl'"
   ]
  },
  {
   "cell_type": "code",
   "execution_count": 4,
   "metadata": {
    "collapsed": true
   },
   "outputs": [],
   "source": [
    "f = open(path, 'rb')"
   ]
  },
  {
   "cell_type": "code",
   "execution_count": 5,
   "metadata": {
    "collapsed": false
   },
   "outputs": [
    {
     "name": "stdout",
     "output_type": "stream",
     "text": [
      "<class 'tuple'>\n"
     ]
    }
   ],
   "source": [
    "data = cPickle.load(f)\n",
    "\n",
    "f.close()\n",
    "print(type(data))"
   ]
  },
  {
   "cell_type": "code",
   "execution_count": 6,
   "metadata": {
    "collapsed": true
   },
   "outputs": [],
   "source": [
    "f.close()"
   ]
  },
  {
   "cell_type": "code",
   "execution_count": 7,
   "metadata": {
    "collapsed": true
   },
   "outputs": [],
   "source": [
    "(x_train, labels_train), (x_test, labels_test) = data"
   ]
  },
  {
   "cell_type": "code",
   "execution_count": 10,
   "metadata": {
    "collapsed": false
   },
   "outputs": [
    {
     "data": {
      "text/plain": [
       "25000"
      ]
     },
     "execution_count": 10,
     "metadata": {},
     "output_type": "execute_result"
    }
   ],
   "source": [
    "len(labels_test)"
   ]
  },
  {
   "cell_type": "code",
   "execution_count": 12,
   "metadata": {
    "collapsed": false
   },
   "outputs": [
    {
     "name": "stdout",
     "output_type": "stream",
     "text": [
      "total 118M\r\n",
      "drwxrwxr-x 2 mike mike 4.0K Mar 28 17:13 \u001b[0m\u001b[01;34m.\u001b[0m/\r\n",
      "drwxrwxr-x 4 mike mike 4.0K Jan 27 22:58 \u001b[01;34m..\u001b[0m/\r\n",
      "-rw-rw-r-- 1 mike mike  63M Mar 15 18:58 imdb_full.pkl\r\n",
      "-rw-rw-r-- 1 mike mike  17M Mar 28 12:27 imdb.npz\r\n",
      "-rw-rw-r-- 1 mike mike 1.6M Mar 28 12:28 imdb_word_index.json\r\n",
      "-rw-rw-r-- 1 mike mike 2.3M Mar 27 11:06 imdb_word_index.pkl\r\n",
      "-rw-rw-r-- 1 mike mike  11M Mar 28 17:13 mnist.npz\r\n",
      "-rw-rw-r-x 1 mike mike  15M Dec 22 18:01 \u001b[01;32mmnist.pkl.gz\u001b[0m*\r\n",
      "-rw-rw-r-- 1 mike mike 587K Mar 15 22:50 nietzsche.txt\r\n",
      "-rw-rw-r-- 1 mike mike 8.8M Mar 27 11:17 reuters.pkl\r\n"
     ]
    }
   ],
   "source": [
    "ls -lah /home/mike/.keras/datasets/"
   ]
  },
  {
   "cell_type": "code",
   "execution_count": 16,
   "metadata": {
    "collapsed": true
   },
   "outputs": [],
   "source": [
    "datapath = '/media/mike/tera/data/nlp/aclImdb/train/'"
   ]
  },
  {
   "cell_type": "code",
   "execution_count": 17,
   "metadata": {
    "collapsed": false
   },
   "outputs": [
    {
     "name": "stdout",
     "output_type": "stream",
     "text": [
      "12500\n",
      "['/media/mike/tera/data/nlp/aclImdb/train/pos/5382_7.txt', '/media/mike/tera/data/nlp/aclImdb/train/pos/6095_7.txt', '/media/mike/tera/data/nlp/aclImdb/train/pos/5764_7.txt', '/media/mike/tera/data/nlp/aclImdb/train/pos/1873_8.txt', '/media/mike/tera/data/nlp/aclImdb/train/pos/6516_10.txt']\n"
     ]
    }
   ],
   "source": [
    "fn_pos = glob.glob(datapath + 'pos/*.txt')\n",
    "print(len(fn_pos))\n",
    "print(fn_pos[:5])"
   ]
  },
  {
   "cell_type": "code",
   "execution_count": 18,
   "metadata": {
    "collapsed": true
   },
   "outputs": [],
   "source": [
    "fn = fn_pos[0]"
   ]
  },
  {
   "cell_type": "code",
   "execution_count": 19,
   "metadata": {
    "collapsed": true
   },
   "outputs": [],
   "source": [
    "with open(fn, 'r') as f:\n",
    "    data = f.read()"
   ]
  },
  {
   "cell_type": "code",
   "execution_count": 20,
   "metadata": {
    "collapsed": false
   },
   "outputs": [
    {
     "data": {
      "text/plain": [
       "\"After watching the Next Action Star reality TV series, I was pleased to see the winners' movie right away. I was leery of such a showcase of new talent, but I was pleasantly surprised and thrilled. Billy Zane, of course, was his usual great self, but Corinne and Sean held their own beside him. It was also nice to see Jared and Jeanne (also from the competition) in their cameo roles. Sean's character, not Billy's, is the hunted, and his frustration at discovering new rules in the game is well played. Corinne walks the tightrope well between her character liking Sean's and only being in it for the money. I loved how the game was played right to the last second. And then beyond! Not a great movie, but an entertaining one all the way and a great showcase for two folks on their first time out of the gate.\""
      ]
     },
     "execution_count": 20,
     "metadata": {},
     "output_type": "execute_result"
    }
   ],
   "source": [
    "data"
   ]
  },
  {
   "cell_type": "code",
   "execution_count": 25,
   "metadata": {
    "collapsed": false
   },
   "outputs": [
    {
     "data": {
      "text/plain": [
       "'5382_7'"
      ]
     },
     "execution_count": 25,
     "metadata": {},
     "output_type": "execute_result"
    }
   ],
   "source": [
    "os.path.basename(fn)[:-4]"
   ]
  },
  {
   "cell_type": "code",
   "execution_count": 32,
   "metadata": {
    "collapsed": true
   },
   "outputs": [],
   "source": [
    "datapath = '/media/mike/tera/data/nlp/aclImdb/'"
   ]
  },
  {
   "cell_type": "code",
   "execution_count": 35,
   "metadata": {
    "collapsed": false
   },
   "outputs": [
    {
     "name": "stdout",
     "output_type": "stream",
     "text": [
      "/media/mike/tera/data/nlp/aclImdb/train/pos/*.txt\n",
      "12500\n",
      "train_pos\n",
      "/media/mike/tera/data/nlp/aclImdb/train/neg/*.txt\n",
      "12500\n",
      "train_neg\n",
      "/media/mike/tera/data/nlp/aclImdb/test/pos/*.txt\n",
      "12500\n",
      "test_pos\n",
      "/media/mike/tera/data/nlp/aclImdb/test/neg/*.txt\n",
      "12500\n",
      "test_neg\n"
     ]
    }
   ],
   "source": [
    "datadict = {}\n",
    "for tset in ['train', 'test']:\n",
    "    for pset in ['pos', 'neg']:\n",
    "        path = datapath + '{}/{}/*.txt'.format(tset, pset)\n",
    "        print(path)\n",
    "        fnames = glob.glob(path)\n",
    "        print(len(fnames))\n",
    "        datas = []\n",
    "        for fn in fnames:\n",
    "            with open(fn, 'r') as f:\n",
    "                data = f.read()\n",
    "                datas.append(data)\n",
    "        key = '{}_{}'.format(tset, pset)\n",
    "        datadict.update({key: datas})\n",
    "        print(key)\n",
    "        "
   ]
  },
  {
   "cell_type": "code",
   "execution_count": 36,
   "metadata": {
    "collapsed": false
   },
   "outputs": [
    {
     "data": {
      "text/plain": [
       "12500"
      ]
     },
     "execution_count": 36,
     "metadata": {},
     "output_type": "execute_result"
    }
   ],
   "source": [
    "len(datadict['train_pos'])"
   ]
  },
  {
   "cell_type": "code",
   "execution_count": 37,
   "metadata": {
    "collapsed": false
   },
   "outputs": [
    {
     "data": {
      "text/plain": [
       "\"After watching the Next Action Star reality TV series, I was pleased to see the winners' movie right away. I was leery of such a showcase of new talent, but I was pleasantly surprised and thrilled. Billy Zane, of course, was his usual great self, but Corinne and Sean held their own beside him. It was also nice to see Jared and Jeanne (also from the competition) in their cameo roles. Sean's character, not Billy's, is the hunted, and his frustration at discovering new rules in the game is well played. Corinne walks the tightrope well between her character liking Sean's and only being in it for the money. I loved how the game was played right to the last second. And then beyond! Not a great movie, but an entertaining one all the way and a great showcase for two folks on their first time out of the gate.\""
      ]
     },
     "execution_count": 37,
     "metadata": {},
     "output_type": "execute_result"
    }
   ],
   "source": [
    "datadict['train_pos'][0]"
   ]
  },
  {
   "cell_type": "code",
   "execution_count": 39,
   "metadata": {
    "collapsed": true
   },
   "outputs": [],
   "source": [
    "train = datadict['train_pos'] + datadict['train_neg']\n",
    "y_train = list(np.ones(len(datadict['train_pos']))) + list(np.zeros(len(datadict['train_neg'])))\n",
    "test = datadict['train_pos'] + datadict['train_neg']\n",
    "y_test = list(np.ones(len(datadict['test_pos']))) + list(np.zeros(len(datadict['test_neg'])))"
   ]
  },
  {
   "cell_type": "code",
   "execution_count": 43,
   "metadata": {
    "collapsed": false
   },
   "outputs": [
    {
     "data": {
      "text/html": [
       "<div>\n",
       "<table border=\"1\" class=\"dataframe\">\n",
       "  <thead>\n",
       "    <tr style=\"text-align: right;\">\n",
       "      <th></th>\n",
       "      <th>review</th>\n",
       "      <th>sentiment</th>\n",
       "    </tr>\n",
       "  </thead>\n",
       "  <tbody>\n",
       "    <tr>\n",
       "      <th>0</th>\n",
       "      <td>After watching the Next Action Star reality TV...</td>\n",
       "      <td>1.0</td>\n",
       "    </tr>\n",
       "    <tr>\n",
       "      <th>1</th>\n",
       "      <td>I'm a bit conflicted over this. The show is on...</td>\n",
       "      <td>1.0</td>\n",
       "    </tr>\n",
       "    <tr>\n",
       "      <th>2</th>\n",
       "      <td>I originally reviewed this film on Amazon abou...</td>\n",
       "      <td>1.0</td>\n",
       "    </tr>\n",
       "    <tr>\n",
       "      <th>3</th>\n",
       "      <td>The violent and rebel twenty-five years old sa...</td>\n",
       "      <td>1.0</td>\n",
       "    </tr>\n",
       "    <tr>\n",
       "      <th>4</th>\n",
       "      <td>hello. i just watched this movie earlier today...</td>\n",
       "      <td>1.0</td>\n",
       "    </tr>\n",
       "  </tbody>\n",
       "</table>\n",
       "</div>"
      ],
      "text/plain": [
       "                                              review  sentiment\n",
       "0  After watching the Next Action Star reality TV...        1.0\n",
       "1  I'm a bit conflicted over this. The show is on...        1.0\n",
       "2  I originally reviewed this film on Amazon abou...        1.0\n",
       "3  The violent and rebel twenty-five years old sa...        1.0\n",
       "4  hello. i just watched this movie earlier today...        1.0"
      ]
     },
     "execution_count": 43,
     "metadata": {},
     "output_type": "execute_result"
    }
   ],
   "source": [
    "df_train = pd.DataFrame(list(zip(train, y_train)), columns=['review', 'sentiment'])\n",
    "df_test = pd.DataFrame(list(zip(test, y_test)), columns=['review', 'sentiment'])\n",
    "\n",
    "df_train.head()"
   ]
  },
  {
   "cell_type": "code",
   "execution_count": 45,
   "metadata": {
    "collapsed": false
   },
   "outputs": [],
   "source": [
    "df_train.to_csv(datapath + 'imdb_train.csv', index=None)"
   ]
  },
  {
   "cell_type": "code",
   "execution_count": 46,
   "metadata": {
    "collapsed": true
   },
   "outputs": [],
   "source": [
    "df_test.to_csv(datapath + 'imdb_test.csv', index=None)"
   ]
  },
  {
   "cell_type": "code",
   "execution_count": null,
   "metadata": {
    "collapsed": true
   },
   "outputs": [],
   "source": []
  }
 ],
 "metadata": {
  "kernelspec": {
   "display_name": "Python 3",
   "language": "python",
   "name": "python3"
  },
  "language_info": {
   "codemirror_mode": {
    "name": "ipython",
    "version": 3
   },
   "file_extension": ".py",
   "mimetype": "text/x-python",
   "name": "python",
   "nbconvert_exporter": "python",
   "pygments_lexer": "ipython3",
   "version": "3.5.2"
  }
 },
 "nbformat": 4,
 "nbformat_minor": 2
}
