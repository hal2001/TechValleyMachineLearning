{
 "cells": [
  {
   "cell_type": "markdown",
   "metadata": {},
   "source": [
    "https://www.kaggle.com/c/word2vec-nlp-tutorial#part-1-for-beginners-bag-of-words"
   ]
  },
  {
   "cell_type": "markdown",
   "metadata": {},
   "source": [
    "# Overview summary, tell whole story in a single left to right flow. what's the journey?\n",
    "\n",
    "## what wil they be able to do after the journey? important in any training\n",
    "\n",
    "### how this is relevant.\n",
    "\n",
    "break up into chapters\n",
    "\n",
    "dependencies"
   ]
  },
  {
   "cell_type": "markdown",
   "metadata": {},
   "source": [
    "# installing dependencies. why choose them? 3 to 5 words\n",
    "# free! even for commercial"
   ]
  },
  {
   "cell_type": "code",
   "execution_count": 1,
   "metadata": {
    "collapsed": false
   },
   "outputs": [],
   "source": [
    "import numpy as np\n",
    "import pandas as pd\n",
    "import re\n",
    "import nltk\n",
    "from sklearn.feature_extraction.text import CountVectorizer\n",
    "from tqdm import tqdm\n",
    "\n",
    "import helper"
   ]
  },
  {
   "cell_type": "code",
   "execution_count": 2,
   "metadata": {
    "collapsed": true
   },
   "outputs": [],
   "source": [
    "nb_top_words = 5000  # Number of words to keep in the vocabulary"
   ]
  },
  {
   "cell_type": "code",
   "execution_count": 3,
   "metadata": {
    "collapsed": true
   },
   "outputs": [],
   "source": [
    "data_path = '/media/mike/tera/data/nlp/techvalley/' # Point this to the path to where IMDB data is stored"
   ]
  },
  {
   "cell_type": "markdown",
   "metadata": {},
   "source": [
    "# where did data come from?\n"
   ]
  },
  {
   "cell_type": "code",
   "execution_count": 4,
   "metadata": {
    "collapsed": false
   },
   "outputs": [],
   "source": [
    "train = pd.read_csv(data_path + 'imdb_train.csv')"
   ]
  },
  {
   "cell_type": "code",
   "execution_count": 5,
   "metadata": {
    "collapsed": false
   },
   "outputs": [
    {
     "data": {
      "text/html": [
       "<div>\n",
       "<table border=\"1\" class=\"dataframe\">\n",
       "  <thead>\n",
       "    <tr style=\"text-align: right;\">\n",
       "      <th></th>\n",
       "      <th>review</th>\n",
       "      <th>sentiment</th>\n",
       "    </tr>\n",
       "  </thead>\n",
       "  <tbody>\n",
       "    <tr>\n",
       "      <th>0</th>\n",
       "      <td>After watching the Next Action Star reality TV...</td>\n",
       "      <td>1.0</td>\n",
       "    </tr>\n",
       "    <tr>\n",
       "      <th>1</th>\n",
       "      <td>I'm a bit conflicted over this. The show is on...</td>\n",
       "      <td>1.0</td>\n",
       "    </tr>\n",
       "    <tr>\n",
       "      <th>2</th>\n",
       "      <td>I originally reviewed this film on Amazon abou...</td>\n",
       "      <td>1.0</td>\n",
       "    </tr>\n",
       "    <tr>\n",
       "      <th>3</th>\n",
       "      <td>The violent and rebel twenty-five years old sa...</td>\n",
       "      <td>1.0</td>\n",
       "    </tr>\n",
       "    <tr>\n",
       "      <th>4</th>\n",
       "      <td>hello. i just watched this movie earlier today...</td>\n",
       "      <td>1.0</td>\n",
       "    </tr>\n",
       "  </tbody>\n",
       "</table>\n",
       "</div>"
      ],
      "text/plain": [
       "                                              review  sentiment\n",
       "0  After watching the Next Action Star reality TV...        1.0\n",
       "1  I'm a bit conflicted over this. The show is on...        1.0\n",
       "2  I originally reviewed this film on Amazon abou...        1.0\n",
       "3  The violent and rebel twenty-five years old sa...        1.0\n",
       "4  hello. i just watched this movie earlier today...        1.0"
      ]
     },
     "execution_count": 5,
     "metadata": {},
     "output_type": "execute_result"
    }
   ],
   "source": [
    "train.head()"
   ]
  },
  {
   "cell_type": "code",
   "execution_count": 6,
   "metadata": {
    "collapsed": false
   },
   "outputs": [
    {
     "data": {
      "text/plain": [
       "'This is one of the most irritating, nonsensical movies I\\'ve ever had the misfortune to sit through. Every time it started to look like it might be getting good, out come more sepia tone flashbacks, followed by paranoid idiocy masquerading as social commentary. The main character, Maddox, is a manipulative, would-be rebel who lives in a mansion seemingly without any parents or responsibility. The supporting cast are all far more likeable and interesting, but are unfortunately never developed. Nor do we ever really understand the John Stanton character supposedly influencing Maddox to commit the acts of rebellion. At one point, I thought \"Aha! Maddox is just nuts and is secretly making up all those communications from escaped mental patient Stanton! Now we\\'re getting somewhere!\" but of course, that ends up to not be the case and the whole movie turns out to be pointless, both from Maddox\\'s perspective and the viewer\\'s. Where\\'s Ferris Bueller when we need him?'"
      ]
     },
     "execution_count": 6,
     "metadata": {},
     "output_type": "execute_result"
    }
   ],
   "source": [
    "train['review'].iloc[-4]"
   ]
  },
  {
   "cell_type": "code",
   "execution_count": null,
   "metadata": {
    "collapsed": true
   },
   "outputs": [],
   "source": []
  },
  {
   "cell_type": "markdown",
   "metadata": {},
   "source": [
    "# what are stopwords?"
   ]
  },
  {
   "cell_type": "code",
   "execution_count": 7,
   "metadata": {
    "collapsed": false
   },
   "outputs": [
    {
     "name": "stdout",
     "output_type": "stream",
     "text": [
      "[nltk_data] Downloading package stopwords to /home/mike/nltk_data...\n",
      "[nltk_data]   Package stopwords is already up-to-date!\n"
     ]
    },
    {
     "data": {
      "text/plain": [
       "['i',\n",
       " 'me',\n",
       " 'my',\n",
       " 'myself',\n",
       " 'we',\n",
       " 'our',\n",
       " 'ours',\n",
       " 'ourselves',\n",
       " 'you',\n",
       " 'your',\n",
       " 'yours',\n",
       " 'yourself',\n",
       " 'yourselves',\n",
       " 'he',\n",
       " 'him',\n",
       " 'his',\n",
       " 'himself',\n",
       " 'she',\n",
       " 'her',\n",
       " 'hers',\n",
       " 'herself',\n",
       " 'it',\n",
       " 'its',\n",
       " 'itself',\n",
       " 'they',\n",
       " 'them',\n",
       " 'their',\n",
       " 'theirs',\n",
       " 'themselves',\n",
       " 'what',\n",
       " 'which',\n",
       " 'who',\n",
       " 'whom',\n",
       " 'this',\n",
       " 'that',\n",
       " 'these',\n",
       " 'those',\n",
       " 'am',\n",
       " 'is',\n",
       " 'are',\n",
       " 'was',\n",
       " 'were',\n",
       " 'be',\n",
       " 'been',\n",
       " 'being',\n",
       " 'have',\n",
       " 'has',\n",
       " 'had',\n",
       " 'having',\n",
       " 'do',\n",
       " 'does',\n",
       " 'did',\n",
       " 'doing',\n",
       " 'a',\n",
       " 'an',\n",
       " 'the',\n",
       " 'and',\n",
       " 'but',\n",
       " 'if',\n",
       " 'or',\n",
       " 'because',\n",
       " 'as',\n",
       " 'until',\n",
       " 'while',\n",
       " 'of',\n",
       " 'at',\n",
       " 'by',\n",
       " 'for',\n",
       " 'with',\n",
       " 'about',\n",
       " 'against',\n",
       " 'between',\n",
       " 'into',\n",
       " 'through',\n",
       " 'during',\n",
       " 'before',\n",
       " 'after',\n",
       " 'above',\n",
       " 'below',\n",
       " 'to',\n",
       " 'from',\n",
       " 'up',\n",
       " 'down',\n",
       " 'in',\n",
       " 'out',\n",
       " 'on',\n",
       " 'off',\n",
       " 'over',\n",
       " 'under',\n",
       " 'again',\n",
       " 'further',\n",
       " 'then',\n",
       " 'once',\n",
       " 'here',\n",
       " 'there',\n",
       " 'when',\n",
       " 'where',\n",
       " 'why',\n",
       " 'how',\n",
       " 'all',\n",
       " 'any',\n",
       " 'both',\n",
       " 'each',\n",
       " 'few',\n",
       " 'more',\n",
       " 'most',\n",
       " 'other',\n",
       " 'some',\n",
       " 'such',\n",
       " 'no',\n",
       " 'nor',\n",
       " 'not',\n",
       " 'only',\n",
       " 'own',\n",
       " 'same',\n",
       " 'so',\n",
       " 'than',\n",
       " 'too',\n",
       " 'very',\n",
       " 's',\n",
       " 't',\n",
       " 'can',\n",
       " 'will',\n",
       " 'just',\n",
       " 'don',\n",
       " 'should',\n",
       " 'now',\n",
       " 'd',\n",
       " 'll',\n",
       " 'm',\n",
       " 'o',\n",
       " 're',\n",
       " 've',\n",
       " 'y',\n",
       " 'ain',\n",
       " 'aren',\n",
       " 'couldn',\n",
       " 'didn',\n",
       " 'doesn',\n",
       " 'hadn',\n",
       " 'hasn',\n",
       " 'haven',\n",
       " 'isn',\n",
       " 'ma',\n",
       " 'mightn',\n",
       " 'mustn',\n",
       " 'needn',\n",
       " 'shan',\n",
       " 'shouldn',\n",
       " 'wasn',\n",
       " 'weren',\n",
       " 'won',\n",
       " 'wouldn']"
      ]
     },
     "execution_count": 7,
     "metadata": {},
     "output_type": "execute_result"
    }
   ],
   "source": [
    "nltk.download('stopwords') # Download the stopwords\n",
    "stopwords = nltk.corpus.stopwords.words('english')\n",
    "# stopwords.append('br') \n",
    "stopwords"
   ]
  },
  {
   "cell_type": "code",
   "execution_count": 8,
   "metadata": {
    "collapsed": true
   },
   "outputs": [],
   "source": [
    "def unstopper(toklist, stoplist=None):\n",
    "    toklist = [w for w in toklist if not w in stoplist]\n",
    "    wordstr = ' '.join(toklist)\n",
    "    return wordstr"
   ]
  },
  {
   "cell_type": "code",
   "execution_count": 9,
   "metadata": {
    "collapsed": false
   },
   "outputs": [],
   "source": [
    "# Unleash the power of PANDAS! This is technically one line of code. But since I dislike perl-esque unreadable one-liners, I've split each operation to its own line\n",
    "\n",
    "train_phrases = train['review']\\\n",
    "                .str.replace(r'<br \\/>', ' ')\\\n",
    "                .str.replace(r'[^a-zA-Z]', ' ')\\\n",
    "                .str.lower()\\\n",
    "\n",
    "if False:\n",
    "    train_phrases = train_phrases.str.split()\\\n",
    "                    .apply(unstopper, stoplist=stopwords)\n",
    "    \n",
    "# Note the use of backslash to split to multiple lines for readability\n",
    "# Remove linebreak <br /> tags\n",
    "# Replace all non-alphabetic with spaces\n",
    "# Lowercase only\n",
    "# Tokenize\n",
    "# Remove all stopwords\n",
    "\n",
    "\n",
    "#.str.replace(r' +', ' ')"
   ]
  },
  {
   "cell_type": "code",
   "execution_count": 10,
   "metadata": {
    "collapsed": false
   },
   "outputs": [
    {
     "data": {
      "text/plain": [
       "0    After watching the Next Action Star reality TV...\n",
       "1    I'm a bit conflicted over this. The show is on...\n",
       "2    I originally reviewed this film on Amazon abou...\n",
       "3    The violent and rebel twenty-five years old sa...\n",
       "4    hello. i just watched this movie earlier today...\n",
       "Name: review, dtype: object"
      ]
     },
     "execution_count": 10,
     "metadata": {},
     "output_type": "execute_result"
    }
   ],
   "source": [
    "train.head()['review'].str.split().str.join(' ')"
   ]
  },
  {
   "cell_type": "code",
   "execution_count": 11,
   "metadata": {
    "collapsed": false
   },
   "outputs": [
    {
     "data": {
      "text/plain": [
       "'after watching the next action star reality tv series  i was pleased to see the winners  movie right away  i was leery of such a showcase of new talent  but i was pleasantly surprised and thrilled  billy zane  of course  was his usual great self  but corinne and sean held their own beside him  it was also nice to see jared and jeanne  also from the competition  in their cameo roles  sean s character  not billy s  is the hunted  and his frustration at discovering new rules in the game is well played  corinne walks the tightrope well between her character liking sean s and only being in it for the money  i loved how the game was played right to the last second  and then beyond  not a great movie  but an entertaining one all the way and a great showcase for two folks on their first time out of the gate '"
      ]
     },
     "execution_count": 11,
     "metadata": {},
     "output_type": "execute_result"
    }
   ],
   "source": [
    "train_phrases[0]"
   ]
  },
  {
   "cell_type": "code",
   "execution_count": 12,
   "metadata": {
    "collapsed": false
   },
   "outputs": [
    {
     "name": "stdout",
     "output_type": "stream",
     "text": [
      "25000\n"
     ]
    }
   ],
   "source": [
    "# Now we need to concatenate all the reviews into a single list so we can apply Bag of Words. \n",
    "big_list_train_phrases = []\n",
    "for sentence in train_phrases.values:\n",
    "    big_list_train_phrases.append(sentence)\n",
    "print(len(big_list_train_phrases))\n",
    "# big_list_train_phrases"
   ]
  },
  {
   "cell_type": "code",
   "execution_count": 13,
   "metadata": {
    "collapsed": false
   },
   "outputs": [],
   "source": [
    "# Initialize the \"CountVectorizer\" object, which is scikit-learn's\n",
    "# bag of words tool.  \n",
    "\n",
    "vectorizer = CountVectorizer(analyzer = \"word\",   \\\n",
    "                             tokenizer = None,    \\\n",
    "                             preprocessor = None, \\\n",
    "                             stop_words = None,   \\\n",
    "                             max_features = nb_top_words - 1) \n",
    "\n",
    "# We have to subtract one in order to make room for the null character. \n"
   ]
  },
  {
   "cell_type": "markdown",
   "metadata": {},
   "source": [
    "# explain vectorizing"
   ]
  },
  {
   "cell_type": "code",
   "execution_count": 14,
   "metadata": {
    "collapsed": true
   },
   "outputs": [],
   "source": [
    "train_data_features = vectorizer.fit_transform(big_list_train_phrases)"
   ]
  },
  {
   "cell_type": "code",
   "execution_count": 15,
   "metadata": {
    "collapsed": false
   },
   "outputs": [
    {
     "data": {
      "text/plain": [
       "scipy.sparse.csr.csr_matrix"
      ]
     },
     "execution_count": 15,
     "metadata": {},
     "output_type": "execute_result"
    }
   ],
   "source": [
    "type(train_data_features)"
   ]
  },
  {
   "cell_type": "code",
   "execution_count": 16,
   "metadata": {
    "collapsed": false
   },
   "outputs": [
    {
     "data": {
      "text/plain": [
       "(25000, 4999)"
      ]
     },
     "execution_count": 16,
     "metadata": {},
     "output_type": "execute_result"
    }
   ],
   "source": [
    "train_data_features = train_data_features.toarray()\n",
    "train_data_features.shape"
   ]
  },
  {
   "cell_type": "code",
   "execution_count": 17,
   "metadata": {
    "collapsed": false
   },
   "outputs": [],
   "source": [
    "vocab = vectorizer.get_feature_names()"
   ]
  },
  {
   "cell_type": "code",
   "execution_count": 18,
   "metadata": {
    "collapsed": true
   },
   "outputs": [],
   "source": [
    "# Sum up the counts of each vocabulary word\n",
    "freq = np.sum(train_data_features, axis=0)\n",
    "\n",
    "# For each, print the vocabulary word and the number of times it \n",
    "# appears in the training set"
   ]
  },
  {
   "cell_type": "code",
   "execution_count": 19,
   "metadata": {
    "collapsed": false
   },
   "outputs": [],
   "source": [
    "df_vocab = pd.DataFrame(list(zip(vocab, freq)), columns=['vocab', 'freq'])"
   ]
  },
  {
   "cell_type": "code",
   "execution_count": 20,
   "metadata": {
    "collapsed": false
   },
   "outputs": [
    {
     "data": {
      "text/html": [
       "<div>\n",
       "<table border=\"1\" class=\"dataframe\">\n",
       "  <thead>\n",
       "    <tr style=\"text-align: right;\">\n",
       "      <th></th>\n",
       "      <th>vocab</th>\n",
       "      <th>freq</th>\n",
       "    </tr>\n",
       "  </thead>\n",
       "  <tbody>\n",
       "    <tr>\n",
       "      <th>0</th>\n",
       "      <td>abandoned</td>\n",
       "      <td>187</td>\n",
       "    </tr>\n",
       "    <tr>\n",
       "      <th>1</th>\n",
       "      <td>abc</td>\n",
       "      <td>125</td>\n",
       "    </tr>\n",
       "    <tr>\n",
       "      <th>2</th>\n",
       "      <td>abilities</td>\n",
       "      <td>108</td>\n",
       "    </tr>\n",
       "    <tr>\n",
       "      <th>3</th>\n",
       "      <td>ability</td>\n",
       "      <td>454</td>\n",
       "    </tr>\n",
       "    <tr>\n",
       "      <th>4</th>\n",
       "      <td>able</td>\n",
       "      <td>1259</td>\n",
       "    </tr>\n",
       "    <tr>\n",
       "      <th>5</th>\n",
       "      <td>about</td>\n",
       "      <td>17375</td>\n",
       "    </tr>\n",
       "    <tr>\n",
       "      <th>6</th>\n",
       "      <td>above</td>\n",
       "      <td>819</td>\n",
       "    </tr>\n",
       "    <tr>\n",
       "      <th>7</th>\n",
       "      <td>abraham</td>\n",
       "      <td>85</td>\n",
       "    </tr>\n",
       "    <tr>\n",
       "      <th>8</th>\n",
       "      <td>absence</td>\n",
       "      <td>116</td>\n",
       "    </tr>\n",
       "    <tr>\n",
       "      <th>9</th>\n",
       "      <td>absent</td>\n",
       "      <td>83</td>\n",
       "    </tr>\n",
       "    <tr>\n",
       "      <th>10</th>\n",
       "      <td>absolute</td>\n",
       "      <td>352</td>\n",
       "    </tr>\n",
       "    <tr>\n",
       "      <th>11</th>\n",
       "      <td>absolutely</td>\n",
       "      <td>1485</td>\n",
       "    </tr>\n",
       "    <tr>\n",
       "      <th>12</th>\n",
       "      <td>absurd</td>\n",
       "      <td>306</td>\n",
       "    </tr>\n",
       "    <tr>\n",
       "      <th>13</th>\n",
       "      <td>abuse</td>\n",
       "      <td>192</td>\n",
       "    </tr>\n",
       "    <tr>\n",
       "      <th>14</th>\n",
       "      <td>abusive</td>\n",
       "      <td>91</td>\n",
       "    </tr>\n",
       "    <tr>\n",
       "      <th>15</th>\n",
       "      <td>abysmal</td>\n",
       "      <td>98</td>\n",
       "    </tr>\n",
       "    <tr>\n",
       "      <th>16</th>\n",
       "      <td>academy</td>\n",
       "      <td>297</td>\n",
       "    </tr>\n",
       "    <tr>\n",
       "      <th>17</th>\n",
       "      <td>accent</td>\n",
       "      <td>485</td>\n",
       "    </tr>\n",
       "    <tr>\n",
       "      <th>18</th>\n",
       "      <td>accents</td>\n",
       "      <td>203</td>\n",
       "    </tr>\n",
       "    <tr>\n",
       "      <th>19</th>\n",
       "      <td>accept</td>\n",
       "      <td>300</td>\n",
       "    </tr>\n",
       "    <tr>\n",
       "      <th>20</th>\n",
       "      <td>acceptable</td>\n",
       "      <td>130</td>\n",
       "    </tr>\n",
       "    <tr>\n",
       "      <th>21</th>\n",
       "      <td>accepted</td>\n",
       "      <td>144</td>\n",
       "    </tr>\n",
       "    <tr>\n",
       "      <th>22</th>\n",
       "      <td>access</td>\n",
       "      <td>92</td>\n",
       "    </tr>\n",
       "    <tr>\n",
       "      <th>23</th>\n",
       "      <td>accident</td>\n",
       "      <td>318</td>\n",
       "    </tr>\n",
       "    <tr>\n",
       "      <th>24</th>\n",
       "      <td>accidentally</td>\n",
       "      <td>200</td>\n",
       "    </tr>\n",
       "    <tr>\n",
       "      <th>25</th>\n",
       "      <td>accompanied</td>\n",
       "      <td>88</td>\n",
       "    </tr>\n",
       "    <tr>\n",
       "      <th>26</th>\n",
       "      <td>accomplished</td>\n",
       "      <td>124</td>\n",
       "    </tr>\n",
       "    <tr>\n",
       "      <th>27</th>\n",
       "      <td>according</td>\n",
       "      <td>296</td>\n",
       "    </tr>\n",
       "    <tr>\n",
       "      <th>28</th>\n",
       "      <td>account</td>\n",
       "      <td>186</td>\n",
       "    </tr>\n",
       "    <tr>\n",
       "      <th>29</th>\n",
       "      <td>accurate</td>\n",
       "      <td>284</td>\n",
       "    </tr>\n",
       "    <tr>\n",
       "      <th>...</th>\n",
       "      <td>...</td>\n",
       "      <td>...</td>\n",
       "    </tr>\n",
       "    <tr>\n",
       "      <th>4969</th>\n",
       "      <td>writers</td>\n",
       "      <td>662</td>\n",
       "    </tr>\n",
       "    <tr>\n",
       "      <th>4970</th>\n",
       "      <td>writes</td>\n",
       "      <td>94</td>\n",
       "    </tr>\n",
       "    <tr>\n",
       "      <th>4971</th>\n",
       "      <td>writing</td>\n",
       "      <td>1304</td>\n",
       "    </tr>\n",
       "    <tr>\n",
       "      <th>4972</th>\n",
       "      <td>written</td>\n",
       "      <td>1616</td>\n",
       "    </tr>\n",
       "    <tr>\n",
       "      <th>4973</th>\n",
       "      <td>wrong</td>\n",
       "      <td>1823</td>\n",
       "    </tr>\n",
       "    <tr>\n",
       "      <th>4974</th>\n",
       "      <td>wrote</td>\n",
       "      <td>574</td>\n",
       "    </tr>\n",
       "    <tr>\n",
       "      <th>4975</th>\n",
       "      <td>ww</td>\n",
       "      <td>85</td>\n",
       "    </tr>\n",
       "    <tr>\n",
       "      <th>4976</th>\n",
       "      <td>wwii</td>\n",
       "      <td>158</td>\n",
       "    </tr>\n",
       "    <tr>\n",
       "      <th>4977</th>\n",
       "      <td>ya</td>\n",
       "      <td>103</td>\n",
       "    </tr>\n",
       "    <tr>\n",
       "      <th>4978</th>\n",
       "      <td>yard</td>\n",
       "      <td>82</td>\n",
       "    </tr>\n",
       "    <tr>\n",
       "      <th>4979</th>\n",
       "      <td>yeah</td>\n",
       "      <td>462</td>\n",
       "    </tr>\n",
       "    <tr>\n",
       "      <th>4980</th>\n",
       "      <td>year</td>\n",
       "      <td>2362</td>\n",
       "    </tr>\n",
       "    <tr>\n",
       "      <th>4981</th>\n",
       "      <td>years</td>\n",
       "      <td>4516</td>\n",
       "    </tr>\n",
       "    <tr>\n",
       "      <th>4982</th>\n",
       "      <td>yelling</td>\n",
       "      <td>92</td>\n",
       "    </tr>\n",
       "    <tr>\n",
       "      <th>4983</th>\n",
       "      <td>yellow</td>\n",
       "      <td>106</td>\n",
       "    </tr>\n",
       "    <tr>\n",
       "      <th>4984</th>\n",
       "      <td>yes</td>\n",
       "      <td>1535</td>\n",
       "    </tr>\n",
       "    <tr>\n",
       "      <th>4985</th>\n",
       "      <td>yesterday</td>\n",
       "      <td>116</td>\n",
       "    </tr>\n",
       "    <tr>\n",
       "      <th>4986</th>\n",
       "      <td>yet</td>\n",
       "      <td>2754</td>\n",
       "    </tr>\n",
       "    <tr>\n",
       "      <th>4987</th>\n",
       "      <td>york</td>\n",
       "      <td>810</td>\n",
       "    </tr>\n",
       "    <tr>\n",
       "      <th>4988</th>\n",
       "      <td>you</td>\n",
       "      <td>34268</td>\n",
       "    </tr>\n",
       "    <tr>\n",
       "      <th>4989</th>\n",
       "      <td>young</td>\n",
       "      <td>3660</td>\n",
       "    </tr>\n",
       "    <tr>\n",
       "      <th>4990</th>\n",
       "      <td>younger</td>\n",
       "      <td>503</td>\n",
       "    </tr>\n",
       "    <tr>\n",
       "      <th>4991</th>\n",
       "      <td>your</td>\n",
       "      <td>5685</td>\n",
       "    </tr>\n",
       "    <tr>\n",
       "      <th>4992</th>\n",
       "      <td>yourself</td>\n",
       "      <td>989</td>\n",
       "    </tr>\n",
       "    <tr>\n",
       "      <th>4993</th>\n",
       "      <td>youth</td>\n",
       "      <td>275</td>\n",
       "    </tr>\n",
       "    <tr>\n",
       "      <th>4994</th>\n",
       "      <td>zero</td>\n",
       "      <td>384</td>\n",
       "    </tr>\n",
       "    <tr>\n",
       "      <th>4995</th>\n",
       "      <td>zizek</td>\n",
       "      <td>85</td>\n",
       "    </tr>\n",
       "    <tr>\n",
       "      <th>4996</th>\n",
       "      <td>zombie</td>\n",
       "      <td>740</td>\n",
       "    </tr>\n",
       "    <tr>\n",
       "      <th>4997</th>\n",
       "      <td>zombies</td>\n",
       "      <td>518</td>\n",
       "    </tr>\n",
       "    <tr>\n",
       "      <th>4998</th>\n",
       "      <td>zone</td>\n",
       "      <td>147</td>\n",
       "    </tr>\n",
       "  </tbody>\n",
       "</table>\n",
       "<p>4999 rows × 2 columns</p>\n",
       "</div>"
      ],
      "text/plain": [
       "             vocab   freq\n",
       "0        abandoned    187\n",
       "1              abc    125\n",
       "2        abilities    108\n",
       "3          ability    454\n",
       "4             able   1259\n",
       "5            about  17375\n",
       "6            above    819\n",
       "7          abraham     85\n",
       "8          absence    116\n",
       "9           absent     83\n",
       "10        absolute    352\n",
       "11      absolutely   1485\n",
       "12          absurd    306\n",
       "13           abuse    192\n",
       "14         abusive     91\n",
       "15         abysmal     98\n",
       "16         academy    297\n",
       "17          accent    485\n",
       "18         accents    203\n",
       "19          accept    300\n",
       "20      acceptable    130\n",
       "21        accepted    144\n",
       "22          access     92\n",
       "23        accident    318\n",
       "24    accidentally    200\n",
       "25     accompanied     88\n",
       "26    accomplished    124\n",
       "27       according    296\n",
       "28         account    186\n",
       "29        accurate    284\n",
       "...            ...    ...\n",
       "4969       writers    662\n",
       "4970        writes     94\n",
       "4971       writing   1304\n",
       "4972       written   1616\n",
       "4973         wrong   1823\n",
       "4974         wrote    574\n",
       "4975            ww     85\n",
       "4976          wwii    158\n",
       "4977            ya    103\n",
       "4978          yard     82\n",
       "4979          yeah    462\n",
       "4980          year   2362\n",
       "4981         years   4516\n",
       "4982       yelling     92\n",
       "4983        yellow    106\n",
       "4984           yes   1535\n",
       "4985     yesterday    116\n",
       "4986           yet   2754\n",
       "4987          york    810\n",
       "4988           you  34268\n",
       "4989         young   3660\n",
       "4990       younger    503\n",
       "4991          your   5685\n",
       "4992      yourself    989\n",
       "4993         youth    275\n",
       "4994          zero    384\n",
       "4995         zizek     85\n",
       "4996        zombie    740\n",
       "4997       zombies    518\n",
       "4998          zone    147\n",
       "\n",
       "[4999 rows x 2 columns]"
      ]
     },
     "execution_count": 20,
     "metadata": {},
     "output_type": "execute_result"
    }
   ],
   "source": [
    "df_vocab"
   ]
  },
  {
   "cell_type": "code",
   "execution_count": 21,
   "metadata": {
    "collapsed": false
   },
   "outputs": [
    {
     "data": {
      "text/html": [
       "<div>\n",
       "<table border=\"1\" class=\"dataframe\">\n",
       "  <thead>\n",
       "    <tr style=\"text-align: right;\">\n",
       "      <th></th>\n",
       "      <th>vocab</th>\n",
       "      <th>freq</th>\n",
       "    </tr>\n",
       "  </thead>\n",
       "  <tbody>\n",
       "    <tr>\n",
       "      <th>1</th>\n",
       "      <td>the</td>\n",
       "      <td>336758</td>\n",
       "    </tr>\n",
       "    <tr>\n",
       "      <th>2</th>\n",
       "      <td>and</td>\n",
       "      <td>164143</td>\n",
       "    </tr>\n",
       "    <tr>\n",
       "      <th>3</th>\n",
       "      <td>of</td>\n",
       "      <td>145867</td>\n",
       "    </tr>\n",
       "    <tr>\n",
       "      <th>4</th>\n",
       "      <td>to</td>\n",
       "      <td>135724</td>\n",
       "    </tr>\n",
       "    <tr>\n",
       "      <th>5</th>\n",
       "      <td>is</td>\n",
       "      <td>107337</td>\n",
       "    </tr>\n",
       "    <tr>\n",
       "      <th>6</th>\n",
       "      <td>it</td>\n",
       "      <td>96472</td>\n",
       "    </tr>\n",
       "    <tr>\n",
       "      <th>7</th>\n",
       "      <td>in</td>\n",
       "      <td>93981</td>\n",
       "    </tr>\n",
       "    <tr>\n",
       "      <th>8</th>\n",
       "      <td>this</td>\n",
       "      <td>76007</td>\n",
       "    </tr>\n",
       "    <tr>\n",
       "      <th>9</th>\n",
       "      <td>that</td>\n",
       "      <td>73287</td>\n",
       "    </tr>\n",
       "    <tr>\n",
       "      <th>10</th>\n",
       "      <td>was</td>\n",
       "      <td>48209</td>\n",
       "    </tr>\n",
       "  </tbody>\n",
       "</table>\n",
       "</div>"
      ],
      "text/plain": [
       "   vocab    freq\n",
       "1    the  336758\n",
       "2    and  164143\n",
       "3     of  145867\n",
       "4     to  135724\n",
       "5     is  107337\n",
       "6     it   96472\n",
       "7     in   93981\n",
       "8   this   76007\n",
       "9   that   73287\n",
       "10   was   48209"
      ]
     },
     "execution_count": 21,
     "metadata": {},
     "output_type": "execute_result"
    }
   ],
   "source": [
    "df_vocab = df_vocab.sort_values(by='freq', ascending=False)\n",
    "df_vocab.reset_index(drop=True, inplace=True)\n",
    "df_vocab.index = df_vocab.index + 1   # We need to increase this to make room for our null character\n",
    "df_vocab.head(10)"
   ]
  },
  {
   "cell_type": "code",
   "execution_count": 22,
   "metadata": {
    "collapsed": true
   },
   "outputs": [],
   "source": [
    "# Invert word/int pairs to get our lookup\n",
    "vocab_idx = {key:value for (key, value) in zip(df_vocab['vocab'], df_vocab.index)}"
   ]
  },
  {
   "cell_type": "code",
   "execution_count": 23,
   "metadata": {
    "collapsed": true
   },
   "outputs": [],
   "source": [
    "def words_to_index(wordlist, vocab=None):\n",
    "    \"\"\"Minifunction for pandas.apply(). Replaces each word with respective index\"\"\"\n",
    "    return [vocab[word] if word in vocab else 0 for word in wordlist]"
   ]
  },
  {
   "cell_type": "code",
   "execution_count": 24,
   "metadata": {
    "collapsed": false
   },
   "outputs": [
    {
     "data": {
      "text/plain": [
       "0    [96, 142, 1, 363, 196, 311, 606, 235, 190, 0, ...\n",
       "1    [0, 0, 0, 217, 0, 114, 8, 1, 116, 5, 18, 25, 4...\n",
       "2    [0, 1786, 0, 8, 16, 18, 0, 39, 37, 149, 579, 2...\n",
       "3    [1, 1079, 2, 4137, 1744, 651, 149, 148, 0, 467...\n",
       "4    [4591, 0, 38, 286, 8, 14, 881, 493, 12, 1, 805...\n",
       "Name: review, dtype: object"
      ]
     },
     "execution_count": 24,
     "metadata": {},
     "output_type": "execute_result"
    }
   ],
   "source": [
    "train_idx = train_phrases.str.split().apply(words_to_index, vocab=vocab_idx)\n",
    "train_idx.head()"
   ]
  },
  {
   "cell_type": "code",
   "execution_count": 25,
   "metadata": {
    "collapsed": true
   },
   "outputs": [],
   "source": [
    "def get_vocab_index(data_phrases, verbose=False):\n",
    "    \"\"\" Proccess an array-like of strings and generate Bag of Words vocab index\n",
    "    \"\"\"\n",
    "    big_list_phrases = []\n",
    "    for sentence in data_phrases.values:\n",
    "        big_list_phrases.append(sentence)\n",
    "\n",
    "    vectorizer = CountVectorizer(analyzer = \"word\",   \\\n",
    "                         tokenizer = None,    \\\n",
    "                         preprocessor = None, \\\n",
    "                         stop_words = None,   \\\n",
    "                         max_features = 5000) \n",
    "\n",
    "    if verbose: print('Vectorizing')\n",
    "    data_features = vectorizer.fit_transform(big_list_phrases)\n",
    "    data_features = data_features.toarray()\n",
    "    freq = np.sum(train_data_features, axis=0)\n",
    "\n",
    "    vocab = vectorizer.get_feature_names()\n",
    "    df_vocab = pd.DataFrame(list(zip(vocab, freq)), columns=['vocab', 'freq'])\n",
    "    df_vocab = df_vocab.sort_values(by='freq', ascending=False)\n",
    "    df_vocab.reset_index(drop=True, inplace=True)\n",
    "    df_vocab.index = df_vocab.index + 1   # We need to increase this to make room for our null character\n",
    "    vocab_idx = {key:value for (key, value) in zip(df_vocab['vocab'], df_vocab.index)}\n",
    "    return vocab_idx\n",
    "    \n",
    "\n",
    "def load_and_process_imdb_csv(file, vocab_idx=None, stopwords=None, header='infer', delimiter=None, quoting=0, show_proccessed=False, verbose=False):\n",
    "    if verbose: print('Loading')\n",
    "    data = pd.read_csv(file, header=header, delimiter=delimiter, quoting=quoting)\n",
    "    if verbose: print('Preprocesing')\n",
    "    data_phrases = data['review'].str.replace(r'<br \\/>', ' ')\\\n",
    "                    .str.replace(r'[^a-zA-Z]', ' ').str.lower()\n",
    "\n",
    "    if stopwords:\n",
    "        data_phrases = data_phrases.str.split()\\\n",
    "                        .apply(unstopper, stoplist=stopwords)\n",
    "            \n",
    "    if vocab_idx is None:\n",
    "        vocab_idx = get_vocab_index(data_phrases, verbose=verbose)\n",
    "\n",
    "    if verbose: print('Indexing')\n",
    "    data_idx = data_phrases.str.split().apply(words_to_index, vocab=vocab_idx)\n",
    "    data['vectors'] = data_idx\n",
    "    if show_proccessed:\n",
    "        data['proccessed'] = data_phrases\n",
    "    return data, vocab_idx\n",
    "    \n",
    "    "
   ]
  },
  {
   "cell_type": "code",
   "execution_count": 26,
   "metadata": {
    "collapsed": false
   },
   "outputs": [
    {
     "name": "stdout",
     "output_type": "stream",
     "text": [
      "Loading\n",
      "Preprocesing\n",
      "Vectorizing\n",
      "Indexing\n"
     ]
    }
   ],
   "source": [
    "train_data, vocab_idx = load_and_process_imdb_csv(data_path + 'imdb_train.csv', verbose=1)"
   ]
  },
  {
   "cell_type": "code",
   "execution_count": 27,
   "metadata": {
    "collapsed": false
   },
   "outputs": [
    {
     "data": {
      "text/html": [
       "<div>\n",
       "<table border=\"1\" class=\"dataframe\">\n",
       "  <thead>\n",
       "    <tr style=\"text-align: right;\">\n",
       "      <th></th>\n",
       "      <th>review</th>\n",
       "      <th>sentiment</th>\n",
       "      <th>vectors</th>\n",
       "    </tr>\n",
       "  </thead>\n",
       "  <tbody>\n",
       "    <tr>\n",
       "      <th>0</th>\n",
       "      <td>After watching the Next Action Star reality TV...</td>\n",
       "      <td>1.0</td>\n",
       "      <td>[96, 1038, 723, 317, 196, 4905, 897, 3767, 603...</td>\n",
       "    </tr>\n",
       "    <tr>\n",
       "      <th>1</th>\n",
       "      <td>I'm a bit conflicted over this. The show is on...</td>\n",
       "      <td>1.0</td>\n",
       "      <td>[0, 0, 0, 217, 0, 4734, 2007, 723, 4584, 1057,...</td>\n",
       "    </tr>\n",
       "    <tr>\n",
       "      <th>2</th>\n",
       "      <td>I originally reviewed this film on Amazon abou...</td>\n",
       "      <td>1.0</td>\n",
       "      <td>[0, 4796, 0, 2007, 785, 274, 0, 39, 4837, 4528...</td>\n",
       "    </tr>\n",
       "    <tr>\n",
       "      <th>3</th>\n",
       "      <td>The violent and rebel twenty-five years old sa...</td>\n",
       "      <td>1.0</td>\n",
       "      <td>[723, 3077, 2, 2226, 1402, 4245, 4528, 894, 0,...</td>\n",
       "    </tr>\n",
       "    <tr>\n",
       "      <th>4</th>\n",
       "      <td>hello. i just watched this movie earlier today...</td>\n",
       "      <td>1.0</td>\n",
       "      <td>[329, 0, 1306, 3590, 2007, 94, 385, 3853, 3652...</td>\n",
       "    </tr>\n",
       "    <tr>\n",
       "      <th>5</th>\n",
       "      <td>Possibly the best movie ever created in the hi...</td>\n",
       "      <td>1.0</td>\n",
       "      <td>[1163, 723, 112, 94, 169, 1044, 4398, 723, 549...</td>\n",
       "    </tr>\n",
       "    <tr>\n",
       "      <th>6</th>\n",
       "      <td>okay, but just plain dumb. Not bad for a horro...</td>\n",
       "      <td>1.0</td>\n",
       "      <td>[148, 15, 1306, 1298, 3634, 2817, 71, 3652, 0,...</td>\n",
       "    </tr>\n",
       "    <tr>\n",
       "      <th>7</th>\n",
       "      <td>I remember seeing this film years ago on, I th...</td>\n",
       "      <td>1.0</td>\n",
       "      <td>[0, 1984, 2671, 2007, 785, 4528, 579, 274, 0, ...</td>\n",
       "    </tr>\n",
       "    <tr>\n",
       "      <th>8</th>\n",
       "      <td>One of director Miike Takashi's very best. It'...</td>\n",
       "      <td>1.0</td>\n",
       "      <td>[637, 118, 151, 1824, 0, 0, 2430, 112, 1073, 0...</td>\n",
       "    </tr>\n",
       "    <tr>\n",
       "      <th>9</th>\n",
       "      <td>I love this show! It's like watching a mini mo...</td>\n",
       "      <td>1.0</td>\n",
       "      <td>[0, 438, 2007, 4584, 1073, 0, 411, 1038, 0, 36...</td>\n",
       "    </tr>\n",
       "    <tr>\n",
       "      <th>10</th>\n",
       "      <td>While originally reluctant to jump on the band...</td>\n",
       "      <td>1.0</td>\n",
       "      <td>[1825, 4796, 0, 493, 4534, 274, 723, 0, 118, 1...</td>\n",
       "    </tr>\n",
       "    <tr>\n",
       "      <th>11</th>\n",
       "      <td>Let me start by saying that \"War, Inc\" is not ...</td>\n",
       "      <td>1.0</td>\n",
       "      <td>[1589, 371, 628, 29, 541, 1544, 3494, 0, 1057,...</td>\n",
       "    </tr>\n",
       "    <tr>\n",
       "      <th>12</th>\n",
       "      <td>Anyone who doesn't like this film is one who i...</td>\n",
       "      <td>1.0</td>\n",
       "      <td>[244, 2415, 146, 0, 411, 2007, 785, 1057, 637,...</td>\n",
       "    </tr>\n",
       "    <tr>\n",
       "      <th>13</th>\n",
       "      <td>A MUST SEE! I saw WHIPPED at a press screening...</td>\n",
       "      <td>1.0</td>\n",
       "      <td>[0, 55, 4225, 0, 128, 0, 27, 0, 3473, 853, 2, ...</td>\n",
       "    </tr>\n",
       "    <tr>\n",
       "      <th>14</th>\n",
       "      <td>Another one of those films you hear about from...</td>\n",
       "      <td>1.0</td>\n",
       "      <td>[154, 637, 118, 145, 461, 178, 540, 39, 980, 1...</td>\n",
       "    </tr>\n",
       "    <tr>\n",
       "      <th>15</th>\n",
       "      <td>This is the magnum opus from the Swedish king ...</td>\n",
       "      <td>1.0</td>\n",
       "      <td>[2007, 1057, 723, 0, 0, 980, 723, 1007, 4423, ...</td>\n",
       "    </tr>\n",
       "    <tr>\n",
       "      <th>16</th>\n",
       "      <td>As I was watching this film on video last nigh...</td>\n",
       "      <td>1.0</td>\n",
       "      <td>[11, 0, 1888, 1038, 2007, 785, 274, 3306, 4256...</td>\n",
       "    </tr>\n",
       "    <tr>\n",
       "      <th>17</th>\n",
       "      <td>Thank the Lord for Martin Scorsese, and his lo...</td>\n",
       "      <td>1.0</td>\n",
       "      <td>[2641, 723, 3580, 3652, 4599, 0, 2, 1336, 438,...</td>\n",
       "    </tr>\n",
       "    <tr>\n",
       "      <th>18</th>\n",
       "      <td>This is one the few movies I can watch over an...</td>\n",
       "      <td>1.0</td>\n",
       "      <td>[2007, 1057, 637, 723, 886, 705, 0, 46, 1699, ...</td>\n",
       "    </tr>\n",
       "    <tr>\n",
       "      <th>19</th>\n",
       "      <td>When you typically watch a short film your alw...</td>\n",
       "      <td>1.0</td>\n",
       "      <td>[1900, 178, 1511, 1699, 0, 3610, 785, 604, 202...</td>\n",
       "    </tr>\n",
       "    <tr>\n",
       "      <th>20</th>\n",
       "      <td>My Comments for VIVAH :- Its a charming, ideal...</td>\n",
       "      <td>1.0</td>\n",
       "      <td>[4345, 770, 3652, 0, 397, 0, 1185, 0, 438, 746...</td>\n",
       "    </tr>\n",
       "    <tr>\n",
       "      <th>21</th>\n",
       "      <td>Deathtrap runs like a play within a movie abou...</td>\n",
       "      <td>1.0</td>\n",
       "      <td>[0, 3919, 411, 0, 245, 199, 0, 94, 39, 2415, 1...</td>\n",
       "    </tr>\n",
       "    <tr>\n",
       "      <th>22</th>\n",
       "      <td>Are we really making 'video nasties' again? In...</td>\n",
       "      <td>1.0</td>\n",
       "      <td>[21, 791, 277, 878, 3306, 0, 167, 4398, 723, 0...</td>\n",
       "    </tr>\n",
       "    <tr>\n",
       "      <th>23</th>\n",
       "      <td>This film quite literally has every single act...</td>\n",
       "      <td>1.0</td>\n",
       "      <td>[2007, 785, 3139, 4562, 1432, 1329, 3087, 196,...</td>\n",
       "    </tr>\n",
       "    <tr>\n",
       "      <th>24</th>\n",
       "      <td>Disney might just be on to something here. Fir...</td>\n",
       "      <td>1.0</td>\n",
       "      <td>[800, 4730, 1306, 24, 274, 493, 501, 568, 4546...</td>\n",
       "    </tr>\n",
       "    <tr>\n",
       "      <th>25</th>\n",
       "      <td>The performance by Om Puri, Smita Patil, and S...</td>\n",
       "      <td>1.0</td>\n",
       "      <td>[723, 344, 29, 0, 0, 0, 0, 2, 0, 0, 2, 723, 49...</td>\n",
       "    </tr>\n",
       "    <tr>\n",
       "      <th>26</th>\n",
       "      <td>Oh dear . Yet another example of \" Oireland \" ...</td>\n",
       "      <td>1.0</td>\n",
       "      <td>[3206, 3133, 742, 154, 2657, 118, 0, 2, 1685, ...</td>\n",
       "    </tr>\n",
       "    <tr>\n",
       "      <th>27</th>\n",
       "      <td>This movie captures the absurd essence of an o...</td>\n",
       "      <td>1.0</td>\n",
       "      <td>[2007, 94, 2289, 723, 1702, 2891, 118, 30, 0, ...</td>\n",
       "    </tr>\n",
       "    <tr>\n",
       "      <th>28</th>\n",
       "      <td>YETI deserves the 8 star rating because it is ...</td>\n",
       "      <td>1.0</td>\n",
       "      <td>[0, 984, 723, 4905, 2838, 81, 1073, 1057, 723,...</td>\n",
       "    </tr>\n",
       "    <tr>\n",
       "      <th>29</th>\n",
       "      <td>Jazz aficionados will treasure this classic sh...</td>\n",
       "      <td>1.0</td>\n",
       "      <td>[3624, 0, 978, 1644, 2007, 342, 3610, 599, 174...</td>\n",
       "    </tr>\n",
       "    <tr>\n",
       "      <th>...</th>\n",
       "      <td>...</td>\n",
       "      <td>...</td>\n",
       "      <td>...</td>\n",
       "    </tr>\n",
       "    <tr>\n",
       "      <th>24970</th>\n",
       "      <td>The video quality is awful. The sound quality ...</td>\n",
       "      <td>0.0</td>\n",
       "      <td>[723, 3306, 1535, 1057, 360, 723, 2721, 1535, ...</td>\n",
       "    </tr>\n",
       "    <tr>\n",
       "      <th>24971</th>\n",
       "      <td>I sat through almost one episode of this serie...</td>\n",
       "      <td>0.0</td>\n",
       "      <td>[0, 3460, 454, 211, 637, 648, 118, 2007, 603, ...</td>\n",
       "    </tr>\n",
       "    <tr>\n",
       "      <th>24972</th>\n",
       "      <td>\"Plan B\" is strictly by-the-numbers fare excep...</td>\n",
       "      <td>0.0</td>\n",
       "      <td>[1635, 0, 1057, 3394, 29, 723, 1903, 3775, 136...</td>\n",
       "    </tr>\n",
       "    <tr>\n",
       "      <th>24973</th>\n",
       "      <td>In 1454, in France, the sorcerer Alaric de Mar...</td>\n",
       "      <td>0.0</td>\n",
       "      <td>[4398, 4398, 3015, 723, 0, 0, 817, 0, 3662, 0,...</td>\n",
       "    </tr>\n",
       "    <tr>\n",
       "      <th>24974</th>\n",
       "      <td>Chan Wook Park is nothing if not inventive. I'...</td>\n",
       "      <td>0.0</td>\n",
       "      <td>[2363, 0, 2086, 1057, 1463, 4394, 2817, 3857, ...</td>\n",
       "    </tr>\n",
       "    <tr>\n",
       "      <th>24975</th>\n",
       "      <td>First of all, I saw this movie when I was 7 ye...</td>\n",
       "      <td>0.0</td>\n",
       "      <td>[4546, 118, 26, 0, 128, 2007, 94, 1900, 0, 188...</td>\n",
       "    </tr>\n",
       "    <tr>\n",
       "      <th>24976</th>\n",
       "      <td>I gave Timecop a perfect 10, I gave this 1&lt;br ...</td>\n",
       "      <td>0.0</td>\n",
       "      <td>[0, 964, 0, 0, 3153, 0, 964, 2007, 1073, 0, 74...</td>\n",
       "    </tr>\n",
       "    <tr>\n",
       "      <th>24977</th>\n",
       "      <td>This film is self indulgent rubbish. Watch thi...</td>\n",
       "      <td>0.0</td>\n",
       "      <td>[2007, 785, 1057, 3849, 0, 4402, 1699, 2007, 7...</td>\n",
       "    </tr>\n",
       "    <tr>\n",
       "      <th>24978</th>\n",
       "      <td>Steve Martin should quit trying to do remakes ...</td>\n",
       "      <td>0.0</td>\n",
       "      <td>[2096, 4599, 1565, 173, 3147, 493, 75, 0, 118,...</td>\n",
       "    </tr>\n",
       "    <tr>\n",
       "      <th>24979</th>\n",
       "      <td>1st watched 2/28/2006 - 4 out of 10(Dir-Sydney...</td>\n",
       "      <td>0.0</td>\n",
       "      <td>[3946, 3590, 3694, 118, 0, 0, 0, 1671, 2013, 0...</td>\n",
       "    </tr>\n",
       "    <tr>\n",
       "      <th>24980</th>\n",
       "      <td>I knew this movie wasn't going to be amazing, ...</td>\n",
       "      <td>0.0</td>\n",
       "      <td>[0, 3118, 2007, 94, 426, 0, 1754, 493, 24, 465...</td>\n",
       "    </tr>\n",
       "    <tr>\n",
       "      <th>24981</th>\n",
       "      <td>I am a huge fan of the comic book series, but ...</td>\n",
       "      <td>0.0</td>\n",
       "      <td>[0, 232, 0, 3855, 3683, 118, 723, 672, 260, 60...</td>\n",
       "    </tr>\n",
       "    <tr>\n",
       "      <th>24982</th>\n",
       "      <td>Pretty crazy whodunit featuring an all black c...</td>\n",
       "      <td>0.0</td>\n",
       "      <td>[3579, 892, 0, 4946, 30, 26, 316, 171, 3147, 4...</td>\n",
       "    </tr>\n",
       "    <tr>\n",
       "      <th>24983</th>\n",
       "      <td>Wow, how bad can it get. This was seriously ba...</td>\n",
       "      <td>0.0</td>\n",
       "      <td>[4717, 1960, 71, 46, 1073, 205, 2007, 1888, 28...</td>\n",
       "    </tr>\n",
       "    <tr>\n",
       "      <th>24984</th>\n",
       "      <td>I tried twice to get through this film, succee...</td>\n",
       "      <td>0.0</td>\n",
       "      <td>[0, 482, 4666, 493, 205, 454, 2007, 785, 0, 72...</td>\n",
       "    </tr>\n",
       "    <tr>\n",
       "      <th>24985</th>\n",
       "      <td>This movie was seriously awful. The acting was...</td>\n",
       "      <td>0.0</td>\n",
       "      <td>[2007, 94, 1888, 2824, 360, 723, 108, 1888, 72...</td>\n",
       "    </tr>\n",
       "    <tr>\n",
       "      <th>24986</th>\n",
       "      <td>I was expecting a B-Movie French musical. Afte...</td>\n",
       "      <td>0.0</td>\n",
       "      <td>[0, 1888, 3234, 0, 0, 94, 4727, 2729, 96, 26, ...</td>\n",
       "    </tr>\n",
       "    <tr>\n",
       "      <th>24987</th>\n",
       "      <td>Cuba Gooding Jr. is a secret service agent who...</td>\n",
       "      <td>0.0</td>\n",
       "      <td>[3932, 0, 1837, 1057, 0, 3275, 4753, 1486, 241...</td>\n",
       "    </tr>\n",
       "    <tr>\n",
       "      <th>24988</th>\n",
       "      <td>This is exactly the reason why many people rem...</td>\n",
       "      <td>0.0</td>\n",
       "      <td>[2007, 1057, 3649, 723, 3718, 3703, 4875, 4243...</td>\n",
       "    </tr>\n",
       "    <tr>\n",
       "      <th>24989</th>\n",
       "      <td>Weaker entry in the Bulldog Drummond series, w...</td>\n",
       "      <td>0.0</td>\n",
       "      <td>[0, 2727, 4398, 723, 0, 0, 603, 720, 1676, 183...</td>\n",
       "    </tr>\n",
       "    <tr>\n",
       "      <th>24990</th>\n",
       "      <td>I can watch a good gory film now and then. I'v...</td>\n",
       "      <td>0.0</td>\n",
       "      <td>[0, 46, 1699, 0, 4050, 182, 785, 2830, 2, 2506...</td>\n",
       "    </tr>\n",
       "    <tr>\n",
       "      <th>24991</th>\n",
       "      <td>This is the first Guinea Pig film from Japan a...</td>\n",
       "      <td>0.0</td>\n",
       "      <td>[2007, 1057, 723, 4546, 0, 2368, 785, 980, 833...</td>\n",
       "    </tr>\n",
       "    <tr>\n",
       "      <th>24992</th>\n",
       "      <td>For some reason, various young couples hiking ...</td>\n",
       "      <td>0.0</td>\n",
       "      <td>[3652, 1745, 3718, 4236, 1120, 4487, 0, 454, 7...</td>\n",
       "    </tr>\n",
       "    <tr>\n",
       "      <th>24993</th>\n",
       "      <td>Unless you are between the ages of 10 and 14 (...</td>\n",
       "      <td>0.0</td>\n",
       "      <td>[992, 178, 21, 192, 723, 2037, 118, 2, 1362, 3...</td>\n",
       "    </tr>\n",
       "    <tr>\n",
       "      <th>24994</th>\n",
       "      <td>Hanna-Barbera sucks the life out of another fa...</td>\n",
       "      <td>0.0</td>\n",
       "      <td>[0, 0, 2052, 723, 4085, 3694, 118, 154, 324, 4...</td>\n",
       "    </tr>\n",
       "    <tr>\n",
       "      <th>24995</th>\n",
       "      <td>Kurt Thomas in one of the series of gymnast ol...</td>\n",
       "      <td>0.0</td>\n",
       "      <td>[4378, 4810, 4398, 637, 118, 723, 603, 118, 0,...</td>\n",
       "    </tr>\n",
       "    <tr>\n",
       "      <th>24996</th>\n",
       "      <td>This is one of the most irritating, nonsensica...</td>\n",
       "      <td>0.0</td>\n",
       "      <td>[2007, 1057, 637, 118, 723, 647, 5, 860, 705, ...</td>\n",
       "    </tr>\n",
       "    <tr>\n",
       "      <th>24997</th>\n",
       "      <td>God, I was bored out of my head as I watched t...</td>\n",
       "      <td>0.0</td>\n",
       "      <td>[3342, 0, 1888, 1065, 3694, 118, 4345, 2799, 1...</td>\n",
       "    </tr>\n",
       "    <tr>\n",
       "      <th>24998</th>\n",
       "      <td>What a waste! This movie could have really bee...</td>\n",
       "      <td>0.0</td>\n",
       "      <td>[816, 0, 1022, 2007, 94, 92, 738, 277, 72, 501...</td>\n",
       "    </tr>\n",
       "    <tr>\n",
       "      <th>24999</th>\n",
       "      <td>When I tell people that I review movies as a h...</td>\n",
       "      <td>0.0</td>\n",
       "      <td>[1900, 0, 956, 4243, 1544, 0, 2102, 705, 11, 0...</td>\n",
       "    </tr>\n",
       "  </tbody>\n",
       "</table>\n",
       "<p>25000 rows × 3 columns</p>\n",
       "</div>"
      ],
      "text/plain": [
       "                                                  review  sentiment  \\\n",
       "0      After watching the Next Action Star reality TV...        1.0   \n",
       "1      I'm a bit conflicted over this. The show is on...        1.0   \n",
       "2      I originally reviewed this film on Amazon abou...        1.0   \n",
       "3      The violent and rebel twenty-five years old sa...        1.0   \n",
       "4      hello. i just watched this movie earlier today...        1.0   \n",
       "5      Possibly the best movie ever created in the hi...        1.0   \n",
       "6      okay, but just plain dumb. Not bad for a horro...        1.0   \n",
       "7      I remember seeing this film years ago on, I th...        1.0   \n",
       "8      One of director Miike Takashi's very best. It'...        1.0   \n",
       "9      I love this show! It's like watching a mini mo...        1.0   \n",
       "10     While originally reluctant to jump on the band...        1.0   \n",
       "11     Let me start by saying that \"War, Inc\" is not ...        1.0   \n",
       "12     Anyone who doesn't like this film is one who i...        1.0   \n",
       "13     A MUST SEE! I saw WHIPPED at a press screening...        1.0   \n",
       "14     Another one of those films you hear about from...        1.0   \n",
       "15     This is the magnum opus from the Swedish king ...        1.0   \n",
       "16     As I was watching this film on video last nigh...        1.0   \n",
       "17     Thank the Lord for Martin Scorsese, and his lo...        1.0   \n",
       "18     This is one the few movies I can watch over an...        1.0   \n",
       "19     When you typically watch a short film your alw...        1.0   \n",
       "20     My Comments for VIVAH :- Its a charming, ideal...        1.0   \n",
       "21     Deathtrap runs like a play within a movie abou...        1.0   \n",
       "22     Are we really making 'video nasties' again? In...        1.0   \n",
       "23     This film quite literally has every single act...        1.0   \n",
       "24     Disney might just be on to something here. Fir...        1.0   \n",
       "25     The performance by Om Puri, Smita Patil, and S...        1.0   \n",
       "26     Oh dear . Yet another example of \" Oireland \" ...        1.0   \n",
       "27     This movie captures the absurd essence of an o...        1.0   \n",
       "28     YETI deserves the 8 star rating because it is ...        1.0   \n",
       "29     Jazz aficionados will treasure this classic sh...        1.0   \n",
       "...                                                  ...        ...   \n",
       "24970  The video quality is awful. The sound quality ...        0.0   \n",
       "24971  I sat through almost one episode of this serie...        0.0   \n",
       "24972  \"Plan B\" is strictly by-the-numbers fare excep...        0.0   \n",
       "24973  In 1454, in France, the sorcerer Alaric de Mar...        0.0   \n",
       "24974  Chan Wook Park is nothing if not inventive. I'...        0.0   \n",
       "24975  First of all, I saw this movie when I was 7 ye...        0.0   \n",
       "24976  I gave Timecop a perfect 10, I gave this 1<br ...        0.0   \n",
       "24977  This film is self indulgent rubbish. Watch thi...        0.0   \n",
       "24978  Steve Martin should quit trying to do remakes ...        0.0   \n",
       "24979  1st watched 2/28/2006 - 4 out of 10(Dir-Sydney...        0.0   \n",
       "24980  I knew this movie wasn't going to be amazing, ...        0.0   \n",
       "24981  I am a huge fan of the comic book series, but ...        0.0   \n",
       "24982  Pretty crazy whodunit featuring an all black c...        0.0   \n",
       "24983  Wow, how bad can it get. This was seriously ba...        0.0   \n",
       "24984  I tried twice to get through this film, succee...        0.0   \n",
       "24985  This movie was seriously awful. The acting was...        0.0   \n",
       "24986  I was expecting a B-Movie French musical. Afte...        0.0   \n",
       "24987  Cuba Gooding Jr. is a secret service agent who...        0.0   \n",
       "24988  This is exactly the reason why many people rem...        0.0   \n",
       "24989  Weaker entry in the Bulldog Drummond series, w...        0.0   \n",
       "24990  I can watch a good gory film now and then. I'v...        0.0   \n",
       "24991  This is the first Guinea Pig film from Japan a...        0.0   \n",
       "24992  For some reason, various young couples hiking ...        0.0   \n",
       "24993  Unless you are between the ages of 10 and 14 (...        0.0   \n",
       "24994  Hanna-Barbera sucks the life out of another fa...        0.0   \n",
       "24995  Kurt Thomas in one of the series of gymnast ol...        0.0   \n",
       "24996  This is one of the most irritating, nonsensica...        0.0   \n",
       "24997  God, I was bored out of my head as I watched t...        0.0   \n",
       "24998  What a waste! This movie could have really bee...        0.0   \n",
       "24999  When I tell people that I review movies as a h...        0.0   \n",
       "\n",
       "                                                 vectors  \n",
       "0      [96, 1038, 723, 317, 196, 4905, 897, 3767, 603...  \n",
       "1      [0, 0, 0, 217, 0, 4734, 2007, 723, 4584, 1057,...  \n",
       "2      [0, 4796, 0, 2007, 785, 274, 0, 39, 4837, 4528...  \n",
       "3      [723, 3077, 2, 2226, 1402, 4245, 4528, 894, 0,...  \n",
       "4      [329, 0, 1306, 3590, 2007, 94, 385, 3853, 3652...  \n",
       "5      [1163, 723, 112, 94, 169, 1044, 4398, 723, 549...  \n",
       "6      [148, 15, 1306, 1298, 3634, 2817, 71, 3652, 0,...  \n",
       "7      [0, 1984, 2671, 2007, 785, 4528, 579, 274, 0, ...  \n",
       "8      [637, 118, 151, 1824, 0, 0, 2430, 112, 1073, 0...  \n",
       "9      [0, 438, 2007, 4584, 1073, 0, 411, 1038, 0, 36...  \n",
       "10     [1825, 4796, 0, 493, 4534, 274, 723, 0, 118, 1...  \n",
       "11     [1589, 371, 628, 29, 541, 1544, 3494, 0, 1057,...  \n",
       "12     [244, 2415, 146, 0, 411, 2007, 785, 1057, 637,...  \n",
       "13     [0, 55, 4225, 0, 128, 0, 27, 0, 3473, 853, 2, ...  \n",
       "14     [154, 637, 118, 145, 461, 178, 540, 39, 980, 1...  \n",
       "15     [2007, 1057, 723, 0, 0, 980, 723, 1007, 4423, ...  \n",
       "16     [11, 0, 1888, 1038, 2007, 785, 274, 3306, 4256...  \n",
       "17     [2641, 723, 3580, 3652, 4599, 0, 2, 1336, 438,...  \n",
       "18     [2007, 1057, 637, 723, 886, 705, 0, 46, 1699, ...  \n",
       "19     [1900, 178, 1511, 1699, 0, 3610, 785, 604, 202...  \n",
       "20     [4345, 770, 3652, 0, 397, 0, 1185, 0, 438, 746...  \n",
       "21     [0, 3919, 411, 0, 245, 199, 0, 94, 39, 2415, 1...  \n",
       "22     [21, 791, 277, 878, 3306, 0, 167, 4398, 723, 0...  \n",
       "23     [2007, 785, 3139, 4562, 1432, 1329, 3087, 196,...  \n",
       "24     [800, 4730, 1306, 24, 274, 493, 501, 568, 4546...  \n",
       "25     [723, 344, 29, 0, 0, 0, 0, 2, 0, 0, 2, 723, 49...  \n",
       "26     [3206, 3133, 742, 154, 2657, 118, 0, 2, 1685, ...  \n",
       "27     [2007, 94, 2289, 723, 1702, 2891, 118, 30, 0, ...  \n",
       "28     [0, 984, 723, 4905, 2838, 81, 1073, 1057, 723,...  \n",
       "29     [3624, 0, 978, 1644, 2007, 342, 3610, 599, 174...  \n",
       "...                                                  ...  \n",
       "24970  [723, 3306, 1535, 1057, 360, 723, 2721, 1535, ...  \n",
       "24971  [0, 3460, 454, 211, 637, 648, 118, 2007, 603, ...  \n",
       "24972  [1635, 0, 1057, 3394, 29, 723, 1903, 3775, 136...  \n",
       "24973  [4398, 4398, 3015, 723, 0, 0, 817, 0, 3662, 0,...  \n",
       "24974  [2363, 0, 2086, 1057, 1463, 4394, 2817, 3857, ...  \n",
       "24975  [4546, 118, 26, 0, 128, 2007, 94, 1900, 0, 188...  \n",
       "24976  [0, 964, 0, 0, 3153, 0, 964, 2007, 1073, 0, 74...  \n",
       "24977  [2007, 785, 1057, 3849, 0, 4402, 1699, 2007, 7...  \n",
       "24978  [2096, 4599, 1565, 173, 3147, 493, 75, 0, 118,...  \n",
       "24979  [3946, 3590, 3694, 118, 0, 0, 0, 1671, 2013, 0...  \n",
       "24980  [0, 3118, 2007, 94, 426, 0, 1754, 493, 24, 465...  \n",
       "24981  [0, 232, 0, 3855, 3683, 118, 723, 672, 260, 60...  \n",
       "24982  [3579, 892, 0, 4946, 30, 26, 316, 171, 3147, 4...  \n",
       "24983  [4717, 1960, 71, 46, 1073, 205, 2007, 1888, 28...  \n",
       "24984  [0, 482, 4666, 493, 205, 454, 2007, 785, 0, 72...  \n",
       "24985  [2007, 94, 1888, 2824, 360, 723, 108, 1888, 72...  \n",
       "24986  [0, 1888, 3234, 0, 0, 94, 4727, 2729, 96, 26, ...  \n",
       "24987  [3932, 0, 1837, 1057, 0, 3275, 4753, 1486, 241...  \n",
       "24988  [2007, 1057, 3649, 723, 3718, 3703, 4875, 4243...  \n",
       "24989  [0, 2727, 4398, 723, 0, 0, 603, 720, 1676, 183...  \n",
       "24990  [0, 46, 1699, 0, 4050, 182, 785, 2830, 2, 2506...  \n",
       "24991  [2007, 1057, 723, 4546, 0, 2368, 785, 980, 833...  \n",
       "24992  [3652, 1745, 3718, 4236, 1120, 4487, 0, 454, 7...  \n",
       "24993  [992, 178, 21, 192, 723, 2037, 118, 2, 1362, 3...  \n",
       "24994  [0, 0, 2052, 723, 4085, 3694, 118, 154, 324, 4...  \n",
       "24995  [4378, 4810, 4398, 637, 118, 723, 603, 118, 0,...  \n",
       "24996  [2007, 1057, 637, 118, 723, 647, 5, 860, 705, ...  \n",
       "24997  [3342, 0, 1888, 1065, 3694, 118, 4345, 2799, 1...  \n",
       "24998  [816, 0, 1022, 2007, 94, 92, 738, 277, 72, 501...  \n",
       "24999  [1900, 0, 956, 4243, 1544, 0, 2102, 705, 11, 0...  \n",
       "\n",
       "[25000 rows x 3 columns]"
      ]
     },
     "execution_count": 27,
     "metadata": {},
     "output_type": "execute_result"
    }
   ],
   "source": [
    "train_data"
   ]
  },
  {
   "cell_type": "code",
   "execution_count": 28,
   "metadata": {
    "collapsed": false
   },
   "outputs": [
    {
     "name": "stdout",
     "output_type": "stream",
     "text": [
      "Loading\n",
      "Preprocesing\n",
      "Indexing\n"
     ]
    }
   ],
   "source": [
    "test_data, _ = load_and_process_imdb_csv(data_path + 'imdb_test.csv', vocab_idx=vocab_idx, show_proccessed=1,  verbose=1)"
   ]
  },
  {
   "cell_type": "code",
   "execution_count": 29,
   "metadata": {
    "collapsed": false
   },
   "outputs": [
    {
     "name": "stdout",
     "output_type": "stream",
     "text": [
      "Loading\n",
      "Preprocesing\n",
      "Indexing\n"
     ]
    }
   ],
   "source": [
    "rotten_data, _ = load_and_process_imdb_csv(data_path + 'rotten.csv', vocab_idx=vocab_idx, verbose=1)"
   ]
  },
  {
   "cell_type": "code",
   "execution_count": 30,
   "metadata": {
    "collapsed": false
   },
   "outputs": [
    {
     "data": {
      "text/html": [
       "<div>\n",
       "<table border=\"1\" class=\"dataframe\">\n",
       "  <thead>\n",
       "    <tr style=\"text-align: right;\">\n",
       "      <th></th>\n",
       "      <th>review</th>\n",
       "      <th>sentiment</th>\n",
       "      <th>vectors</th>\n",
       "      <th>proccessed</th>\n",
       "    </tr>\n",
       "  </thead>\n",
       "  <tbody>\n",
       "    <tr>\n",
       "      <th>0</th>\n",
       "      <td>After watching the Next Action Star reality TV...</td>\n",
       "      <td>1.0</td>\n",
       "      <td>[96, 1038, 723, 317, 196, 4905, 897, 3767, 603...</td>\n",
       "      <td>after watching the next action star reality tv...</td>\n",
       "    </tr>\n",
       "    <tr>\n",
       "      <th>1</th>\n",
       "      <td>I'm a bit conflicted over this. The show is on...</td>\n",
       "      <td>1.0</td>\n",
       "      <td>[0, 0, 0, 217, 0, 4734, 2007, 723, 4584, 1057,...</td>\n",
       "      <td>i m a bit conflicted over this  the show is on...</td>\n",
       "    </tr>\n",
       "    <tr>\n",
       "      <th>2</th>\n",
       "      <td>I originally reviewed this film on Amazon abou...</td>\n",
       "      <td>1.0</td>\n",
       "      <td>[0, 4796, 0, 2007, 785, 274, 0, 39, 4837, 4528...</td>\n",
       "      <td>i originally reviewed this film on amazon abou...</td>\n",
       "    </tr>\n",
       "    <tr>\n",
       "      <th>3</th>\n",
       "      <td>The violent and rebel twenty-five years old sa...</td>\n",
       "      <td>1.0</td>\n",
       "      <td>[723, 3077, 2, 2226, 1402, 4245, 4528, 894, 0,...</td>\n",
       "      <td>the violent and rebel twenty five years old sa...</td>\n",
       "    </tr>\n",
       "    <tr>\n",
       "      <th>4</th>\n",
       "      <td>hello. i just watched this movie earlier today...</td>\n",
       "      <td>1.0</td>\n",
       "      <td>[329, 0, 1306, 3590, 2007, 94, 385, 3853, 3652...</td>\n",
       "      <td>hello  i just watched this movie earlier today...</td>\n",
       "    </tr>\n",
       "  </tbody>\n",
       "</table>\n",
       "</div>"
      ],
      "text/plain": [
       "                                              review  sentiment  \\\n",
       "0  After watching the Next Action Star reality TV...        1.0   \n",
       "1  I'm a bit conflicted over this. The show is on...        1.0   \n",
       "2  I originally reviewed this film on Amazon abou...        1.0   \n",
       "3  The violent and rebel twenty-five years old sa...        1.0   \n",
       "4  hello. i just watched this movie earlier today...        1.0   \n",
       "\n",
       "                                             vectors  \\\n",
       "0  [96, 1038, 723, 317, 196, 4905, 897, 3767, 603...   \n",
       "1  [0, 0, 0, 217, 0, 4734, 2007, 723, 4584, 1057,...   \n",
       "2  [0, 4796, 0, 2007, 785, 274, 0, 39, 4837, 4528...   \n",
       "3  [723, 3077, 2, 2226, 1402, 4245, 4528, 894, 0,...   \n",
       "4  [329, 0, 1306, 3590, 2007, 94, 385, 3853, 3652...   \n",
       "\n",
       "                                          proccessed  \n",
       "0  after watching the next action star reality tv...  \n",
       "1  i m a bit conflicted over this  the show is on...  \n",
       "2  i originally reviewed this film on amazon abou...  \n",
       "3  the violent and rebel twenty five years old sa...  \n",
       "4  hello  i just watched this movie earlier today...  "
      ]
     },
     "execution_count": 30,
     "metadata": {},
     "output_type": "execute_result"
    }
   ],
   "source": [
    "test_data.head()"
   ]
  },
  {
   "cell_type": "code",
   "execution_count": 31,
   "metadata": {
    "collapsed": false
   },
   "outputs": [
    {
     "data": {
      "text/html": [
       "<div>\n",
       "<table border=\"1\" class=\"dataframe\">\n",
       "  <thead>\n",
       "    <tr style=\"text-align: right;\">\n",
       "      <th></th>\n",
       "      <th>Unnamed: 0</th>\n",
       "      <th>PhraseId</th>\n",
       "      <th>SentenceId</th>\n",
       "      <th>review</th>\n",
       "      <th>sentiment5</th>\n",
       "      <th>sentiment</th>\n",
       "      <th>vectors</th>\n",
       "    </tr>\n",
       "  </thead>\n",
       "  <tbody>\n",
       "    <tr>\n",
       "      <th>0</th>\n",
       "      <td>0</td>\n",
       "      <td>1</td>\n",
       "      <td>1</td>\n",
       "      <td>A series of escapades demonstrating the adage ...</td>\n",
       "      <td>1</td>\n",
       "      <td>0</td>\n",
       "      <td>[0, 603, 118, 0, 0, 723, 0, 1544, 816, 1057, 4...</td>\n",
       "    </tr>\n",
       "    <tr>\n",
       "      <th>1</th>\n",
       "      <td>1</td>\n",
       "      <td>64</td>\n",
       "      <td>2</td>\n",
       "      <td>This quiet , introspective and entertaining in...</td>\n",
       "      <td>4</td>\n",
       "      <td>1</td>\n",
       "      <td>[2007, 4923, 0, 2, 692, 2667, 1057, 3497, 4748]</td>\n",
       "    </tr>\n",
       "    <tr>\n",
       "      <th>2</th>\n",
       "      <td>2</td>\n",
       "      <td>82</td>\n",
       "      <td>3</td>\n",
       "      <td>Even fans of Ismail Merchant 's work , I suspe...</td>\n",
       "      <td>1</td>\n",
       "      <td>0</td>\n",
       "      <td>[2064, 752, 118, 0, 0, 0, 921, 0, 2984, 566, 7...</td>\n",
       "    </tr>\n",
       "    <tr>\n",
       "      <th>3</th>\n",
       "      <td>3</td>\n",
       "      <td>117</td>\n",
       "      <td>4</td>\n",
       "      <td>A positively thrilling combination of ethnogra...</td>\n",
       "      <td>3</td>\n",
       "      <td>1</td>\n",
       "      <td>[0, 0, 3429, 2176, 118, 0, 2, 26, 723, 3657, 0...</td>\n",
       "    </tr>\n",
       "    <tr>\n",
       "      <th>4</th>\n",
       "      <td>4</td>\n",
       "      <td>157</td>\n",
       "      <td>5</td>\n",
       "      <td>Aggressive self-glorification and a manipulati...</td>\n",
       "      <td>1</td>\n",
       "      <td>0</td>\n",
       "      <td>[0, 3849, 0, 2, 0, 4633, 0]</td>\n",
       "    </tr>\n",
       "  </tbody>\n",
       "</table>\n",
       "</div>"
      ],
      "text/plain": [
       "   Unnamed: 0  PhraseId  SentenceId  \\\n",
       "0           0         1           1   \n",
       "1           1        64           2   \n",
       "2           2        82           3   \n",
       "3           3       117           4   \n",
       "4           4       157           5   \n",
       "\n",
       "                                              review  sentiment5  sentiment  \\\n",
       "0  A series of escapades demonstrating the adage ...           1          0   \n",
       "1  This quiet , introspective and entertaining in...           4          1   \n",
       "2  Even fans of Ismail Merchant 's work , I suspe...           1          0   \n",
       "3  A positively thrilling combination of ethnogra...           3          1   \n",
       "4  Aggressive self-glorification and a manipulati...           1          0   \n",
       "\n",
       "                                             vectors  \n",
       "0  [0, 603, 118, 0, 0, 723, 0, 1544, 816, 1057, 4...  \n",
       "1    [2007, 4923, 0, 2, 692, 2667, 1057, 3497, 4748]  \n",
       "2  [2064, 752, 118, 0, 0, 0, 921, 0, 2984, 566, 7...  \n",
       "3  [0, 0, 3429, 2176, 118, 0, 2, 26, 723, 3657, 0...  \n",
       "4                        [0, 3849, 0, 2, 0, 4633, 0]  "
      ]
     },
     "execution_count": 31,
     "metadata": {},
     "output_type": "execute_result"
    }
   ],
   "source": [
    "rotten_data.head()"
   ]
  },
  {
   "cell_type": "code",
   "execution_count": null,
   "metadata": {
    "collapsed": false
   },
   "outputs": [],
   "source": []
  },
  {
   "cell_type": "code",
   "execution_count": 32,
   "metadata": {
    "collapsed": false
   },
   "outputs": [
    {
     "data": {
      "text/html": [
       "<div>\n",
       "<table border=\"1\" class=\"dataframe\">\n",
       "  <thead>\n",
       "    <tr style=\"text-align: right;\">\n",
       "      <th></th>\n",
       "      <th>Unnamed: 0</th>\n",
       "      <th>PhraseId</th>\n",
       "      <th>SentenceId</th>\n",
       "      <th>review</th>\n",
       "      <th>sentiment5</th>\n",
       "      <th>sentiment</th>\n",
       "      <th>vectors</th>\n",
       "    </tr>\n",
       "  </thead>\n",
       "  <tbody>\n",
       "    <tr>\n",
       "      <th>228</th>\n",
       "      <td>281</td>\n",
       "      <td>7037</td>\n",
       "      <td>282</td>\n",
       "      <td>First , for a movie that tries to be smart , i...</td>\n",
       "      <td>1</td>\n",
       "      <td>0</td>\n",
       "      <td>[4546, 3652, 0, 94, 1544, 2290, 493, 24, 1787,...</td>\n",
       "    </tr>\n",
       "    <tr>\n",
       "      <th>3527</th>\n",
       "      <td>4384</td>\n",
       "      <td>84867</td>\n",
       "      <td>4389</td>\n",
       "      <td>A grand fart coming from a director beginning ...</td>\n",
       "      <td>0</td>\n",
       "      <td>0</td>\n",
       "      <td>[0, 4289, 0, 563, 980, 0, 151, 442, 493, 0, 13...</td>\n",
       "    </tr>\n",
       "    <tr>\n",
       "      <th>6462</th>\n",
       "      <td>8027</td>\n",
       "      <td>147785</td>\n",
       "      <td>8041</td>\n",
       "      <td>Given the fact that virtually no one is bound ...</td>\n",
       "      <td>0</td>\n",
       "      <td>0</td>\n",
       "      <td>[396, 723, 2274, 1544, 3260, 3018, 637, 1057, ...</td>\n",
       "    </tr>\n",
       "    <tr>\n",
       "      <th>5140</th>\n",
       "      <td>6389</td>\n",
       "      <td>119645</td>\n",
       "      <td>6399</td>\n",
       "      <td>There 's a lot of tooth in Roger Dodger .</td>\n",
       "      <td>3</td>\n",
       "      <td>1</td>\n",
       "      <td>[1587, 0, 0, 751, 118, 338, 4398, 2788, 0]</td>\n",
       "    </tr>\n",
       "    <tr>\n",
       "      <th>4265</th>\n",
       "      <td>5286</td>\n",
       "      <td>100741</td>\n",
       "      <td>5292</td>\n",
       "      <td>So aggressively cheery that Pollyana would rea...</td>\n",
       "      <td>1</td>\n",
       "      <td>0</td>\n",
       "      <td>[1809, 0, 0, 1544, 0, 566, 3785, 3652, 0, 0, 3...</td>\n",
       "    </tr>\n",
       "  </tbody>\n",
       "</table>\n",
       "</div>"
      ],
      "text/plain": [
       "      Unnamed: 0  PhraseId  SentenceId  \\\n",
       "228          281      7037         282   \n",
       "3527        4384     84867        4389   \n",
       "6462        8027    147785        8041   \n",
       "5140        6389    119645        6399   \n",
       "4265        5286    100741        5292   \n",
       "\n",
       "                                                 review  sentiment5  \\\n",
       "228   First , for a movie that tries to be smart , i...           1   \n",
       "3527  A grand fart coming from a director beginning ...           0   \n",
       "6462  Given the fact that virtually no one is bound ...           0   \n",
       "5140          There 's a lot of tooth in Roger Dodger .           3   \n",
       "4265  So aggressively cheery that Pollyana would rea...           1   \n",
       "\n",
       "      sentiment                                            vectors  \n",
       "228           0  [4546, 3652, 0, 94, 1544, 2290, 493, 24, 1787,...  \n",
       "3527          0  [0, 4289, 0, 563, 980, 0, 151, 442, 493, 0, 13...  \n",
       "6462          0  [396, 723, 2274, 1544, 3260, 3018, 637, 1057, ...  \n",
       "5140          1         [1587, 0, 0, 751, 118, 338, 4398, 2788, 0]  \n",
       "4265          0  [1809, 0, 0, 1544, 0, 566, 3785, 3652, 0, 0, 3...  "
      ]
     },
     "execution_count": 32,
     "metadata": {},
     "output_type": "execute_result"
    }
   ],
   "source": [
    "# Shuffle the dataframe\n",
    "rotten_data = rotten_data.sample(frac=1)\n",
    "rotten_data.head()"
   ]
  },
  {
   "cell_type": "code",
   "execution_count": 33,
   "metadata": {
    "collapsed": false
   },
   "outputs": [],
   "source": [
    "m = len(rotten_data) // 2"
   ]
  },
  {
   "cell_type": "code",
   "execution_count": 34,
   "metadata": {
    "collapsed": false
   },
   "outputs": [
    {
     "name": "stdout",
     "output_type": "stream",
     "text": [
      "(3437, 7) (3437, 7)\n"
     ]
    }
   ],
   "source": [
    "rotten_train = rotten_data.iloc[:m]\n",
    "rotten_test = rotten_data.iloc[m:]\n",
    "print(rotten_train.shape, rotten_test.shape)"
   ]
  },
  {
   "cell_type": "code",
   "execution_count": 35,
   "metadata": {
    "collapsed": false
   },
   "outputs": [],
   "source": [
    "# Make a numpy file so we can easily load it into the other notebook\n",
    "helper.package_dataset(data_path + 'imdb.npz', np.array(train_data['vectors']), np.array(train_data['sentiment'], dtype='int16'), \n",
    "                                              np.array(test_data['vectors']), np.array(test_data['sentiment'], dtype='int16'))\n",
    "\n",
    "helper.package_dataset(data_path + 'rotten.npz', np.array(rotten_train['vectors']), np.array(rotten_train['sentiment'], dtype='int16'), \n",
    "                                              np.array(rotten_test['vectors']), np.array(rotten_test['sentiment'], dtype='int16'))\n"
   ]
  },
  {
   "cell_type": "code",
   "execution_count": 36,
   "metadata": {
    "collapsed": false
   },
   "outputs": [],
   "source": [
    "data =np.load(data_path + 'imdb.npz')"
   ]
  },
  {
   "cell_type": "code",
   "execution_count": 37,
   "metadata": {
    "collapsed": false
   },
   "outputs": [
    {
     "data": {
      "text/plain": [
       "numpy.lib.npyio.NpzFile"
      ]
     },
     "execution_count": 37,
     "metadata": {},
     "output_type": "execute_result"
    }
   ],
   "source": [
    "type(data)"
   ]
  },
  {
   "cell_type": "code",
   "execution_count": 38,
   "metadata": {
    "collapsed": false
   },
   "outputs": [
    {
     "data": {
      "text/plain": [
       "['arr_0']"
      ]
     },
     "execution_count": 38,
     "metadata": {},
     "output_type": "execute_result"
    }
   ],
   "source": [
    "data.keys()"
   ]
  },
  {
   "cell_type": "code",
   "execution_count": 39,
   "metadata": {
    "collapsed": false
   },
   "outputs": [
    {
     "data": {
      "text/plain": [
       "(2, 2, 25000)"
      ]
     },
     "execution_count": 39,
     "metadata": {},
     "output_type": "execute_result"
    }
   ],
   "source": [
    "data['arr_0'].shape"
   ]
  },
  {
   "cell_type": "code",
   "execution_count": 41,
   "metadata": {
    "collapsed": false
   },
   "outputs": [],
   "source": [
    "(a, b), (c, d) = helper.unpackage_dataset(data_path + 'imdb.npz')#data['arr_0']"
   ]
  },
  {
   "cell_type": "code",
   "execution_count": null,
   "metadata": {
    "collapsed": false
   },
   "outputs": [],
   "source": [
    "b"
   ]
  },
  {
   "cell_type": "code",
   "execution_count": null,
   "metadata": {
    "collapsed": true
   },
   "outputs": [],
   "source": []
  }
 ],
 "metadata": {
  "kernelspec": {
   "display_name": "Python 3",
   "language": "python",
   "name": "python3"
  },
  "language_info": {
   "codemirror_mode": {
    "name": "ipython",
    "version": 3
   },
   "file_extension": ".py",
   "mimetype": "text/x-python",
   "name": "python",
   "nbconvert_exporter": "python",
   "pygments_lexer": "ipython3",
   "version": "3.5.2"
  }
 },
 "nbformat": 4,
 "nbformat_minor": 2
}
